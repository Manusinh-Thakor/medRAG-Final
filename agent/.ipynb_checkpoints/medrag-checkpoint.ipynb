{
 "cells": [
  {
   "cell_type": "code",
   "execution_count": 1,
   "id": "556340b3-1ce2-424f-9aea-5b908854774a",
   "metadata": {},
   "outputs": [],
   "source": [
    "!pip install -q -U langgraph langsmith langchain-openai langchain_tavily langchain_ollama fastapi[all] websockets tavily-python boto3 langchain_aws"
   ]
  },
  {
   "cell_type": "code",
   "execution_count": 3,
   "id": "27d892aa-b822-4384-b6e9-40fb96246989",
   "metadata": {
    "scrolled": true
   },
   "outputs": [
    {
     "ename": "AttributeError",
     "evalue": "'CompiledStateGraph' object has no attribute 'prep_inputs'",
     "output_type": "error",
     "traceback": [
      "\u001b[31m---------------------------------------------------------------------------\u001b[39m",
      "\u001b[31mAttributeError\u001b[39m                            Traceback (most recent call last)",
      "\u001b[36mCell\u001b[39m\u001b[36m \u001b[39m\u001b[32mIn[3]\u001b[39m\u001b[32m, line 22\u001b[39m\n\u001b[32m     20\u001b[39m skip = \u001b[38;5;28;01mFalse\u001b[39;00m\n\u001b[32m     21\u001b[39m tool_use = \u001b[38;5;28;01mFalse\u001b[39;00m\n\u001b[32m---> \u001b[39m\u001b[32m22\u001b[39m \u001b[38;5;28;43;01mfor\u001b[39;49;00m\u001b[43m \u001b[49m\u001b[43mstep\u001b[49m\u001b[43m \u001b[49m\u001b[38;5;129;43;01min\u001b[39;49;00m\u001b[43m \u001b[49m\u001b[43mcall_agent\u001b[49m\u001b[43m(\u001b[49m\u001b[43mfinal_input_str\u001b[49m\u001b[43m)\u001b[49m\u001b[43m:\u001b[49m\n\u001b[32m     23\u001b[39m \u001b[43m    \u001b[49m\u001b[38;5;28;43;01mif\u001b[39;49;00m\u001b[43m \u001b[49m\u001b[38;5;28;43mlen\u001b[39;49m\u001b[43m(\u001b[49m\u001b[43mdata\u001b[49m\u001b[43m)\u001b[49m\u001b[43m:\u001b[49m\n\u001b[32m     24\u001b[39m \u001b[43m        \u001b[49m\u001b[38;5;28;43;01mfor\u001b[39;49;00m\u001b[43m \u001b[49m\u001b[43mold_step\u001b[49m\u001b[43m \u001b[49m\u001b[38;5;129;43;01min\u001b[39;49;00m\u001b[43m \u001b[49m\u001b[43mdata\u001b[49m\u001b[43m:\u001b[49m\n",
      "\u001b[36mFile \u001b[39m\u001b[32m~/manusinh/medRAG/agent/agent_runner.py:84\u001b[39m, in \u001b[36mcall_agent\u001b[39m\u001b[34m(qry)\u001b[39m\n\u001b[32m     82\u001b[39m \u001b[38;5;28;01mdef\u001b[39;00m\u001b[38;5;250m \u001b[39m\u001b[34mcall_agent\u001b[39m(qry):\n\u001b[32m     83\u001b[39m     input_message = {\u001b[33m\"\u001b[39m\u001b[33mrole\u001b[39m\u001b[33m\"\u001b[39m: \u001b[33m\"\u001b[39m\u001b[33muser\u001b[39m\u001b[33m\"\u001b[39m, \u001b[33m\"\u001b[39m\u001b[33mcontent\u001b[39m\u001b[33m\"\u001b[39m: qry}\n\u001b[32m---> \u001b[39m\u001b[32m84\u001b[39m     agent_iter = \u001b[43mAgentExecutorIterator\u001b[49m\u001b[43m(\u001b[49m\u001b[43magent_executor\u001b[49m\u001b[43m,\u001b[49m\u001b[43m \u001b[49m\u001b[43m{\u001b[49m\u001b[33;43m\"\u001b[39;49m\u001b[33;43mmessages\u001b[39;49m\u001b[33;43m\"\u001b[39;49m\u001b[43m:\u001b[49m\u001b[43m \u001b[49m\u001b[43m[\u001b[49m\u001b[43minput_message\u001b[49m\u001b[43m]\u001b[49m\u001b[43m}\u001b[49m\u001b[43m,\u001b[49m\u001b[43m \u001b[49m\u001b[43myield_actions\u001b[49m\u001b[43m=\u001b[49m\u001b[38;5;28;43;01mTrue\u001b[39;49;00m\u001b[43m)\u001b[49m\n\u001b[32m     86\u001b[39m     seen_ids = \u001b[38;5;28mset\u001b[39m()\n\u001b[32m     88\u001b[39m     \u001b[38;5;28;01mfor\u001b[39;00m step \u001b[38;5;129;01min\u001b[39;00m agent_iter:\n",
      "\u001b[36mFile \u001b[39m\u001b[32m~/manusinh/venv/lib/python3.12/site-packages/langchain/agents/agent_iterator.py:79\u001b[39m, in \u001b[36mAgentExecutorIterator.__init__\u001b[39m\u001b[34m(self, agent_executor, inputs, callbacks, tags, metadata, run_name, run_id, include_run_info, yield_actions)\u001b[39m\n\u001b[32m     58\u001b[39m \u001b[38;5;250m\u001b[39m\u001b[33;03m\"\"\"\u001b[39;00m\n\u001b[32m     59\u001b[39m \u001b[33;03mInitialize the AgentExecutorIterator with the given AgentExecutor,\u001b[39;00m\n\u001b[32m     60\u001b[39m \u001b[33;03minputs, and optional callbacks.\u001b[39;00m\n\u001b[32m   (...)\u001b[39m\u001b[32m     76\u001b[39m \u001b[33;03m        are generated. Defaults to False.\u001b[39;00m\n\u001b[32m     77\u001b[39m \u001b[33;03m\"\"\"\u001b[39;00m\n\u001b[32m     78\u001b[39m \u001b[38;5;28mself\u001b[39m._agent_executor = agent_executor\n\u001b[32m---> \u001b[39m\u001b[32m79\u001b[39m \u001b[38;5;28;43mself\u001b[39;49m\u001b[43m.\u001b[49m\u001b[43minputs\u001b[49m = inputs\n\u001b[32m     80\u001b[39m \u001b[38;5;28mself\u001b[39m.callbacks = callbacks\n\u001b[32m     81\u001b[39m \u001b[38;5;28mself\u001b[39m.tags = tags\n",
      "\u001b[36mFile \u001b[39m\u001b[32m~/manusinh/venv/lib/python3.12/site-packages/langchain/agents/agent_iterator.py:105\u001b[39m, in \u001b[36mAgentExecutorIterator.inputs\u001b[39m\u001b[34m(self, inputs)\u001b[39m\n\u001b[32m    103\u001b[39m \u001b[38;5;129m@inputs\u001b[39m.setter\n\u001b[32m    104\u001b[39m \u001b[38;5;28;01mdef\u001b[39;00m\u001b[38;5;250m \u001b[39m\u001b[34minputs\u001b[39m(\u001b[38;5;28mself\u001b[39m, inputs: Any) -> \u001b[38;5;28;01mNone\u001b[39;00m:\n\u001b[32m--> \u001b[39m\u001b[32m105\u001b[39m     \u001b[38;5;28mself\u001b[39m._inputs = \u001b[38;5;28;43mself\u001b[39;49m\u001b[43m.\u001b[49m\u001b[43magent_executor\u001b[49m\u001b[43m.\u001b[49m\u001b[43mprep_inputs\u001b[49m(inputs)\n",
      "\u001b[31mAttributeError\u001b[39m: 'CompiledStateGraph' object has no attribute 'prep_inputs'"
     ]
    }
   ],
   "source": [
    "import json\n",
    "from agent_runner import call_agent\n",
    "\n",
    "# Step 1: Define the structured input\n",
    "input_data = {\n",
    "    \"query\": \"chest xray tumor image\",\n",
    "    \"image\": True,\n",
    "    \"image_path\": \"/path/to/chest_xray.jpg\"\n",
    "}\n",
    "# Step 2: Extract fields\n",
    "query = input_data.get(\"query\", \"\")\n",
    "image_flag = input_data.get(\"image\", False)\n",
    "image_path = input_data.get(\"image_path\", \"\")\n",
    "\n",
    "# Step 3: Format into a single string\n",
    "final_input_str = f\"Query: {query}\\nImage: {image_flag}\\nImage Path: {image_path}\"\n",
    "\n",
    "# Step 4: Send to agent\n",
    "data = []\n",
    "skip = False\n",
    "tool_use = False\n",
    "for step in call_agent(final_input_str):\n",
    "    print(step)\n",
    "#     if len(data):\n",
    "#         for old_step in data:\n",
    "#             if step[\"type\"]==old_step[\"type\"] and step[\"data\"]==old_step[\"data\"]:\n",
    "#                 skip = True\n",
    "#                 break\n",
    "#             else:\n",
    "#                 skip = False  \n",
    "#     if not skip and step[\"type\"]==\"tool\":\n",
    "#         tool_use = True\n",
    "#         print(step)\n",
    "#     data.append(step)\n",
    "\n",
    "# if not tool_use: \n",
    "#     for step in data:\n",
    "#         if step[\"type\"]==\"ai\":\n",
    "#             tool_use = False\n",
    "#             print(step)"
   ]
  },
  {
   "cell_type": "code",
   "execution_count": 1,
   "id": "97ae7daf-4e4b-40c4-8464-a19a7727dc47",
   "metadata": {},
   "outputs": [
    {
     "name": "stdout",
     "output_type": "stream",
     "text": [
      "{'type': 'ai', 'data': 'type: ai\\ndata: This assistant is designed strictly for medical image processing and search. Please ask a medical-related question.\\nnext_tool: no_tool'}\n"
     ]
    }
   ],
   "source": [
    "import json\n",
    "from agent_runner import call_agent\n",
    "\n",
    "# Step 1: Define the structured input\n",
    "input_data = {\n",
    "    \"query\": \"Hi\",\n",
    "    \"image\": False,\n",
    "    \"image_path\": \"\"\n",
    "}\n",
    "# Step 2: Extract fields\n",
    "query = input_data.get(\"query\", \"\")\n",
    "image_flag = input_data.get(\"image\", False)\n",
    "image_path = input_data.get(\"image_path\", \"\")\n",
    "\n",
    "# Step 3: Format into a single string\n",
    "final_input_str = f\"Query: {query}\\nImage: {image_flag}\\nImage Path: {image_path}\"\n",
    "\n",
    "# Step 4: Send to agent\n",
    "data = []\n",
    "skip = False\n",
    "tool_use = False\n",
    "for step in call_agent(final_input_str):\n",
    "    if len(data):\n",
    "        for old_step in data:\n",
    "            if step[\"type\"]==old_step[\"type\"] and step[\"data\"]==old_step[\"data\"]:\n",
    "                skip = True\n",
    "                break\n",
    "            else:\n",
    "                skip = False  \n",
    "    if not skip and step[\"type\"]==\"tool\":\n",
    "        tool_use = True\n",
    "        print(step)\n",
    "    data.append(step)\n",
    "\n",
    "if not tool_use: \n",
    "    for step in data:\n",
    "        if step[\"type\"]==\"ai\":\n",
    "            tool_use = False\n",
    "            print(step)\n",
    "    "
   ]
  },
  {
   "cell_type": "code",
   "execution_count": 2,
   "id": "0f275f63-4bdd-44e9-8ab4-9a847cd53acb",
   "metadata": {},
   "outputs": [],
   "source": [
    "# !aws s3 cp s3://medgemma/unique_subset ./unique_subset --recursive"
   ]
  },
  {
   "cell_type": "code",
   "execution_count": 2,
   "id": "0a35df08-ab15-4af9-9dd1-0c444ddef196",
   "metadata": {},
   "outputs": [
    {
     "name": "stdout",
     "output_type": "stream",
     "text": [
      "Requirement already satisfied: langgraph in /home/ubuntu/manusinh/venv/lib/python3.12/site-packages (0.5.1)\n",
      "Requirement already satisfied: langchain-core>=0.1 in /home/ubuntu/manusinh/venv/lib/python3.12/site-packages (from langgraph) (0.3.68)\n",
      "Requirement already satisfied: langgraph-checkpoint<3.0.0,>=2.1.0 in /home/ubuntu/manusinh/venv/lib/python3.12/site-packages (from langgraph) (2.1.0)\n",
      "Requirement already satisfied: langgraph-prebuilt<0.6.0,>=0.5.0 in /home/ubuntu/manusinh/venv/lib/python3.12/site-packages (from langgraph) (0.5.2)\n",
      "Requirement already satisfied: langgraph-sdk<0.2.0,>=0.1.42 in /home/ubuntu/manusinh/venv/lib/python3.12/site-packages (from langgraph) (0.1.72)\n",
      "Requirement already satisfied: pydantic>=2.7.4 in /home/ubuntu/manusinh/venv/lib/python3.12/site-packages (from langgraph) (2.11.7)\n",
      "Requirement already satisfied: xxhash>=3.5.0 in /home/ubuntu/manusinh/venv/lib/python3.12/site-packages (from langgraph) (3.5.0)\n",
      "Requirement already satisfied: ormsgpack>=1.10.0 in /home/ubuntu/manusinh/venv/lib/python3.12/site-packages (from langgraph-checkpoint<3.0.0,>=2.1.0->langgraph) (1.10.0)\n",
      "Requirement already satisfied: httpx>=0.25.2 in /home/ubuntu/manusinh/venv/lib/python3.12/site-packages (from langgraph-sdk<0.2.0,>=0.1.42->langgraph) (0.28.1)\n",
      "Requirement already satisfied: orjson>=3.10.1 in /home/ubuntu/manusinh/venv/lib/python3.12/site-packages (from langgraph-sdk<0.2.0,>=0.1.42->langgraph) (3.10.18)\n",
      "Requirement already satisfied: anyio in /home/ubuntu/manusinh/venv/lib/python3.12/site-packages (from httpx>=0.25.2->langgraph-sdk<0.2.0,>=0.1.42->langgraph) (4.9.0)\n",
      "Requirement already satisfied: certifi in /home/ubuntu/manusinh/venv/lib/python3.12/site-packages (from httpx>=0.25.2->langgraph-sdk<0.2.0,>=0.1.42->langgraph) (2025.6.15)\n",
      "Requirement already satisfied: httpcore==1.* in /home/ubuntu/manusinh/venv/lib/python3.12/site-packages (from httpx>=0.25.2->langgraph-sdk<0.2.0,>=0.1.42->langgraph) (1.0.9)\n",
      "Requirement already satisfied: idna in /home/ubuntu/manusinh/venv/lib/python3.12/site-packages (from httpx>=0.25.2->langgraph-sdk<0.2.0,>=0.1.42->langgraph) (3.10)\n",
      "Requirement already satisfied: h11>=0.16 in /home/ubuntu/manusinh/venv/lib/python3.12/site-packages (from httpcore==1.*->httpx>=0.25.2->langgraph-sdk<0.2.0,>=0.1.42->langgraph) (0.16.0)\n",
      "Requirement already satisfied: langsmith>=0.3.45 in /home/ubuntu/manusinh/venv/lib/python3.12/site-packages (from langchain-core>=0.1->langgraph) (0.4.4)\n",
      "Requirement already satisfied: tenacity!=8.4.0,<10.0.0,>=8.1.0 in /home/ubuntu/manusinh/venv/lib/python3.12/site-packages (from langchain-core>=0.1->langgraph) (9.1.2)\n",
      "Requirement already satisfied: jsonpatch<2.0,>=1.33 in /home/ubuntu/manusinh/venv/lib/python3.12/site-packages (from langchain-core>=0.1->langgraph) (1.33)\n",
      "Requirement already satisfied: PyYAML>=5.3 in /home/ubuntu/manusinh/venv/lib/python3.12/site-packages (from langchain-core>=0.1->langgraph) (6.0.2)\n",
      "Requirement already satisfied: packaging<25,>=23.2 in /home/ubuntu/manusinh/venv/lib/python3.12/site-packages (from langchain-core>=0.1->langgraph) (24.2)\n",
      "Requirement already satisfied: typing-extensions>=4.7 in /home/ubuntu/manusinh/venv/lib/python3.12/site-packages (from langchain-core>=0.1->langgraph) (4.14.1)\n",
      "Requirement already satisfied: jsonpointer>=1.9 in /home/ubuntu/manusinh/venv/lib/python3.12/site-packages (from jsonpatch<2.0,>=1.33->langchain-core>=0.1->langgraph) (3.0.0)\n",
      "Requirement already satisfied: requests<3,>=2 in /home/ubuntu/manusinh/venv/lib/python3.12/site-packages (from langsmith>=0.3.45->langchain-core>=0.1->langgraph) (2.32.4)\n",
      "Requirement already satisfied: requests-toolbelt<2.0.0,>=1.0.0 in /home/ubuntu/manusinh/venv/lib/python3.12/site-packages (from langsmith>=0.3.45->langchain-core>=0.1->langgraph) (1.0.0)\n",
      "Requirement already satisfied: zstandard<0.24.0,>=0.23.0 in /home/ubuntu/manusinh/venv/lib/python3.12/site-packages (from langsmith>=0.3.45->langchain-core>=0.1->langgraph) (0.23.0)\n",
      "Requirement already satisfied: annotated-types>=0.6.0 in /home/ubuntu/manusinh/venv/lib/python3.12/site-packages (from pydantic>=2.7.4->langgraph) (0.7.0)\n",
      "Requirement already satisfied: pydantic-core==2.33.2 in /home/ubuntu/manusinh/venv/lib/python3.12/site-packages (from pydantic>=2.7.4->langgraph) (2.33.2)\n",
      "Requirement already satisfied: typing-inspection>=0.4.0 in /home/ubuntu/manusinh/venv/lib/python3.12/site-packages (from pydantic>=2.7.4->langgraph) (0.4.1)\n",
      "Requirement already satisfied: charset_normalizer<4,>=2 in /home/ubuntu/manusinh/venv/lib/python3.12/site-packages (from requests<3,>=2->langsmith>=0.3.45->langchain-core>=0.1->langgraph) (3.4.2)\n",
      "Requirement already satisfied: urllib3<3,>=1.21.1 in /home/ubuntu/manusinh/venv/lib/python3.12/site-packages (from requests<3,>=2->langsmith>=0.3.45->langchain-core>=0.1->langgraph) (2.5.0)\n",
      "Requirement already satisfied: sniffio>=1.1 in /home/ubuntu/manusinh/venv/lib/python3.12/site-packages (from anyio->httpx>=0.25.2->langgraph-sdk<0.2.0,>=0.1.42->langgraph) (1.3.1)\n"
     ]
    }
   ],
   "source": [
    "!pip install langgraph\n"
   ]
  },
  {
   "cell_type": "code",
   "execution_count": null,
   "id": "38929526-2ea9-4441-882f-28ac3ec819a3",
   "metadata": {},
   "outputs": [],
   "source": []
  }
 ],
 "metadata": {
  "kernelspec": {
   "display_name": "Python 3 (ipykernel)",
   "language": "python",
   "name": "python3"
  },
  "language_info": {
   "codemirror_mode": {
    "name": "ipython",
    "version": 3
   },
   "file_extension": ".py",
   "mimetype": "text/x-python",
   "name": "python",
   "nbconvert_exporter": "python",
   "pygments_lexer": "ipython3",
   "version": "3.12.3"
  }
 },
 "nbformat": 4,
 "nbformat_minor": 5
}
