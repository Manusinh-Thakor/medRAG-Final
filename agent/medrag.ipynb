{
 "cells": [
  {
   "cell_type": "code",
   "execution_count": 1,
   "id": "556340b3-1ce2-424f-9aea-5b908854774a",
   "metadata": {},
   "outputs": [],
   "source": [
    "!pip install -q -U langgraph langsmith langchain-openai langchain_tavily langchain_ollama fastapi[all] websockets tavily-python boto3 langchain_aws"
   ]
  },
  {
   "cell_type": "code",
   "execution_count": 6,
   "id": "27d892aa-b822-4384-b6e9-40fb96246989",
   "metadata": {
    "scrolled": true
   },
   "outputs": [
    {
     "name": "stdout",
     "output_type": "stream",
     "text": [
      "{'type': 'tool', 'data': 'The chest X-ray shows a posteroanterior (PA) view of the thorax with proper inspiration and no significant rotation. The trachea appears central, and the cardiac silhouette is within normal   limits. The bony structures, including ribs, clavicles, and shoulders, appear intact.\\n\\nOn closer inspection of the lung fields, the left lung appears clear, but there is a distinct abnormality in the right lung. Specifically, in the mid-lung zone of the right lung field, there is a solitary, dense opacity. This lesion is relatively well defined but irregular in shape. There are no visible air bronchograms within the lesion, which reduces the likelihood of it being a simple pneumonia or consolidation. Furthermore, there is no evidence of cavitation or calcification, which argues against conditions such as tuberculosis or a benign granuloma.\\n\\nThe absence of features such as satellite nodules, calcified borders, or central cavitation makes infectious causes like TB less likely. Similarly, the lesion does not show characteristics of benign tumors like hamartoma, which often appear as well-circumscribed nodules with \"popcorn\" calcification.\\n\\nGiven the solitary nature of the lesion, its size, and its irregular borders, a neoplastic process must be considered. The most likely diagnosis based on these radiographic findings is a primary lung malignancy, such as bronchogenic carcinoma. This is especially concerning in the context of a middle-aged or older adult, particularly if there is a history of smoking.\\n\\nIn conclusion, the X-ray demonstrates a solitary pulmonary mass in the right mid-lung zone, with radiographic features most consistent with a primary bronchogenic carcinoma. Further imaging with contrast-enhanced CT and tissue biopsy would be necessary to confirm the diagnosis and guide management.\\n'}\n",
      "{'type': 'tool', 'data': '{\"images\": [{\"url\": \"http://localhost:8000/images/image1.jpg\", \"title\": \"X-ray showing right lung opacity\"}, {\"url\": \"http://localhost:8000/images/image2.jpg\", \"title\": \"Chest X-ray with pleural effusion\"}, {\"url\": \"http://localhost:8000/images/image3.jpg\", \"title\": \"Normal chest X-ray for comparison\"}, {\"url\": \"http://localhost:8000/images/image4.jpg\", \"title\": \"Lung cancer visible in upper lobe\"}, {\"url\": \"http://localhost:8000/images/image5.jpg\", \"title\": \"Infiltrates seen in lower lobe\"}]}'}\n",
      "{'type': 'tool', 'data': '[{\"image_url\": \"https://prod-images-static.radiopaedia.org/images/24266527/be725757987bde59cabc48ec7a9e9b079e582690bb381a329b841e83efeb77c6_gallery.jpeg\", \"source_url\": \"https://radiopaedia.org/cases/bronchogenic-carcinoma-2\", \"title\": \"Bronchogenic carcinoma | Radiology Case | Radiopaedia.org\"}, {\"image_url\": \"http://www.learningradiology.com/images/chestimages1/Bronchogenic%20Ca-ann.jpg\", \"source_url\": \"http://www.learningradiology.com/notes/chestnotes/bronchogeniccarcinoma.htm\", \"title\": \"LearningRadiology - Lung Masses, Bronchogenic Carcinoma\"}, {\"image_url\": \"https://prod-images-static.radiopaedia.org/images/344667/a1132897bb46f12930a5b9a4d8943f_big_gallery.jpg\", \"source_url\": \"https://radiopaedia.org/cases/bronchogenic-carcinoma-1\", \"title\": \"Bronchogenic carcinoma | Radiology Case | Radiopaedia.org\"}, {\"image_url\": \"https://www.researchgate.net/publication/47567125/figure/fig48/AS:202500234846233@1425291226377/Bronchogenic-carcinoma-Radiographic-appearances-are-similar-to-ordinary-lung-cancer.png\", \"source_url\": \"https://www.researchgate.net/figure/Bronchogenic-carcinoma-Radiographic-appearances-are-similar-to-ordinary-lung-cancer_fig48_47567125\", \"title\": \"Bronchogenic carcinoma. Radiographic appearances are similar to... |  Download Scientific Diagram\"}, {\"image_url\": \"https://prod-images-static.radiopaedia.org/images/64055705/bfd2ec192e086bf8b0c37341d3d87a9b51243b2f116a2426607e4f09b8f96f8f_big_gallery.jpeg\", \"source_url\": \"https://radiopaedia.org/articles/lung-cancer-3\", \"title\": \"Lung cancer | Radiology Reference Article | Radiopaedia.org\"}]'}\n"
     ]
    }
   ],
   "source": [
    "import json\n",
    "from agent_runner import call_agent\n",
    "\n",
    "# Step 1: Define the structured input\n",
    "input_data = {\n",
    "    \"query\": \"chest xray tumor image\",\n",
    "    \"image\": True,\n",
    "    \"image_path\": \"/path/to/chest_xray.jpg\"\n",
    "}\n",
    "# Step 2: Extract fields\n",
    "query = input_data.get(\"query\", \"\")\n",
    "image_flag = input_data.get(\"image\", False)\n",
    "image_path = input_data.get(\"image_path\", \"\")\n",
    "\n",
    "# Step 3: Format into a single string\n",
    "final_input_str = f\"Query: {query}\\nImage: {image_flag}\\nImage Path: {image_path}\"\n",
    "\n",
    "# Step 4: Send to agent\n",
    "data = []\n",
    "skip = False\n",
    "tool_use = False\n",
    "for step in call_agent(final_input_str):\n",
    "    if len(data):\n",
    "        for old_step in data:\n",
    "            if step[\"type\"]==old_step[\"type\"] and step[\"data\"]==old_step[\"data\"]:\n",
    "                skip = True\n",
    "                break\n",
    "            else:\n",
    "                skip = False  \n",
    "    if not skip and step[\"type\"]==\"tool\":\n",
    "        tool_use = True\n",
    "        print(step)\n",
    "    data.append(step)\n",
    "\n",
    "if not tool_use: \n",
    "    for step in data:\n",
    "        if step[\"type\"]==\"ai\":\n",
    "            tool_use = False\n",
    "            print(step)"
   ]
  },
  {
   "cell_type": "code",
   "execution_count": 2,
   "id": "97ae7daf-4e4b-40c4-8464-a19a7727dc47",
   "metadata": {},
   "outputs": [
    {
     "name": "stdout",
     "output_type": "stream",
     "text": [
      "{'type': 'ai', 'data': 'This assistant is designed strictly for medical image processing and search. Please ask a medical-related question that involves images.'}\n",
      "{'type': 'ai', 'data': 'This assistant is designed strictly for medical image processing and search. Please ask a medical-related question that involves images.'}\n",
      "{'type': 'ai', 'data': 'This assistant is designed strictly for medical image processing and search. Please ask a medical-related question that involves images.'}\n"
     ]
    }
   ],
   "source": [
    "import json\n",
    "from agent_runner import call_agent\n",
    "\n",
    "# Step 1: Define the structured input\n",
    "input_data = {\n",
    "    \"query\": \"can you tell me pnemonia symstems\",\n",
    "    \"image\": False,\n",
    "    \"image_path\": \"\"\n",
    "}\n",
    "# Step 2: Extract fields\n",
    "query = input_data.get(\"query\", \"\")\n",
    "image_flag = input_data.get(\"image\", False)\n",
    "image_path = input_data.get(\"image_path\", \"\")\n",
    "\n",
    "# Step 3: Format into a single string\n",
    "final_input_str = f\"Query: {query}\\nImage: {image_flag}\\nImage Path: {image_path}\"\n",
    "\n",
    "# Step 4: Send to agent\n",
    "data = []\n",
    "skip = False\n",
    "tool_use = False\n",
    "for step in call_agent(final_input_str):\n",
    "    if len(data):\n",
    "        for old_step in data:\n",
    "            if step[\"type\"]==old_step[\"type\"] and step[\"data\"]==old_step[\"data\"]:\n",
    "                skip = True\n",
    "                break\n",
    "            else:\n",
    "                skip = False  \n",
    "    if not skip and step[\"type\"]==\"tool\":\n",
    "        tool_use = True\n",
    "        print(step)\n",
    "    data.append(step)\n",
    "\n",
    "if not tool_use: \n",
    "    for step in data:\n",
    "        if step[\"type\"]==\"ai\":\n",
    "            tool_use = False\n",
    "            print(step)\n",
    "    "
   ]
  },
  {
   "cell_type": "code",
   "execution_count": null,
   "id": "0f275f63-4bdd-44e9-8ab4-9a847cd53acb",
   "metadata": {},
   "outputs": [],
   "source": []
  }
 ],
 "metadata": {
  "kernelspec": {
   "display_name": "Python 3 (ipykernel)",
   "language": "python",
   "name": "python3"
  },
  "language_info": {
   "codemirror_mode": {
    "name": "ipython",
    "version": 3
   },
   "file_extension": ".py",
   "mimetype": "text/x-python",
   "name": "python",
   "nbconvert_exporter": "python",
   "pygments_lexer": "ipython3",
   "version": "3.12.3"
  }
 },
 "nbformat": 4,
 "nbformat_minor": 5
}
