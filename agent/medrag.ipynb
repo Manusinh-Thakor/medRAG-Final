{
 "cells": [
  {
   "cell_type": "code",
   "execution_count": 1,
   "id": "556340b3-1ce2-424f-9aea-5b908854774a",
   "metadata": {},
   "outputs": [],
   "source": [
    "!pip install -q -U langgraph langsmith langchain-openai langchain_tavily langchain_ollama fastapi[all] websockets tavily-python boto3 langchain_aws"
   ]
  },
  {
   "cell_type": "code",
   "execution_count": 1,
   "id": "27d892aa-b822-4384-b6e9-40fb96246989",
   "metadata": {
    "scrolled": true
   },
   "outputs": [
    {
     "ename": "NameError",
     "evalue": "name 'msg' is not defined",
     "output_type": "error",
     "traceback": [
      "\u001b[31m---------------------------------------------------------------------------\u001b[39m",
      "\u001b[31mNameError\u001b[39m                                 Traceback (most recent call last)",
      "\u001b[36mCell\u001b[39m\u001b[36m \u001b[39m\u001b[32mIn[1]\u001b[39m\u001b[32m, line 22\u001b[39m\n\u001b[32m     20\u001b[39m skip = \u001b[38;5;28;01mFalse\u001b[39;00m\n\u001b[32m     21\u001b[39m tool_use = \u001b[38;5;28;01mFalse\u001b[39;00m\n\u001b[32m---> \u001b[39m\u001b[32m22\u001b[39m \u001b[38;5;28;43;01mfor\u001b[39;49;00m\u001b[43m \u001b[49m\u001b[43mstep\u001b[49m\u001b[43m \u001b[49m\u001b[38;5;129;43;01min\u001b[39;49;00m\u001b[43m \u001b[49m\u001b[43mcall_agent\u001b[49m\u001b[43m(\u001b[49m\u001b[43mfinal_input_str\u001b[49m\u001b[43m)\u001b[49m\u001b[43m:\u001b[49m\n\u001b[32m     23\u001b[39m \u001b[43m    \u001b[49m\u001b[38;5;28;43mprint\u001b[39;49m\u001b[43m(\u001b[49m\u001b[43mstep\u001b[49m\u001b[43m)\u001b[49m\n\u001b[32m     24\u001b[39m \u001b[43m    \u001b[49m\u001b[38;5;28;43;01mif\u001b[39;49;00m\u001b[43m \u001b[49m\u001b[38;5;28;43mlen\u001b[39;49m\u001b[43m(\u001b[49m\u001b[43mdata\u001b[49m\u001b[43m)\u001b[49m\u001b[43m:\u001b[49m\n",
      "\u001b[36mFile \u001b[39m\u001b[32m~/manusinh/medRAG/agent/agent_runner.py:67\u001b[39m, in \u001b[36mcall_agent\u001b[39m\u001b[34m(qry)\u001b[39m\n\u001b[32m     65\u001b[39m \u001b[38;5;28;01mfor\u001b[39;00m step \u001b[38;5;129;01min\u001b[39;00m agent_executor.stream({\u001b[33m\"\u001b[39m\u001b[33mmessages\u001b[39m\u001b[33m\"\u001b[39m: [input_message]}, config, stream_mode=\u001b[33m\"\u001b[39m\u001b[33mvalues\u001b[39m\u001b[33m\"\u001b[39m):\n\u001b[32m     66\u001b[39m     \u001b[38;5;28;01mif\u001b[39;00m \u001b[33m\"\u001b[39m\u001b[33mmessages\u001b[39m\u001b[33m\"\u001b[39m \u001b[38;5;129;01min\u001b[39;00m step:\n\u001b[32m---> \u001b[39m\u001b[32m67\u001b[39m         last_msg = \u001b[43mmsg\u001b[49m.content\n\u001b[32m     68\u001b[39m         \u001b[38;5;66;03m# for msg in step[\"messages\"]:\u001b[39;00m\n\u001b[32m     69\u001b[39m         \u001b[38;5;66;03m#     if isinstance(msg, HumanMessage):\u001b[39;00m\n\u001b[32m     70\u001b[39m         \u001b[38;5;66;03m#         last_msg = {\"type\": \"human\", \"data\": msg.content}\u001b[39;00m\n\u001b[32m   (...)\u001b[39m\u001b[32m     75\u001b[39m         \u001b[38;5;66;03m#     else:\u001b[39;00m\n\u001b[32m     76\u001b[39m         \u001b[38;5;66;03m#         last_msg = {\"type\": \"unknown\", \"data\": str(msg)}\u001b[39;00m\n\u001b[32m     78\u001b[39m         \u001b[38;5;28;01mif\u001b[39;00m last_msg \u001b[38;5;129;01mis\u001b[39;00m \u001b[38;5;129;01mnot\u001b[39;00m \u001b[38;5;28;01mNone\u001b[39;00m:\n",
      "\u001b[31mNameError\u001b[39m: name 'msg' is not defined"
     ]
    }
   ],
   "source": [
    "import json\n",
    "from agent_runner import call_agent\n",
    "\n",
    "# Step 1: Define the structured input\n",
    "input_data = {\n",
    "    \"query\": \"chest xray tumor image\",\n",
    "    \"image\": True,\n",
    "    \"image_path\": \"/path/to/chest_xray.jpg\"\n",
    "}\n",
    "# Step 2: Extract fields\n",
    "query = input_data.get(\"query\", \"\")\n",
    "image_flag = input_data.get(\"image\", False)\n",
    "image_path = input_data.get(\"image_path\", \"\")\n",
    "\n",
    "# Step 3: Format into a single string\n",
    "final_input_str = f\"Query: {query}\\nImage: {image_flag}\\nImage Path: {image_path}\"\n",
    "\n",
    "# Step 4: Send to agent\n",
    "data = []\n",
    "skip = False\n",
    "tool_use = False\n",
    "for step in call_agent(final_input_str):\n",
    "    print(step)\n",
    "    if len(data):\n",
    "        for old_step in data:\n",
    "            if step[\"type\"]==old_step[\"type\"] and step[\"data\"]==old_step[\"data\"]:\n",
    "                skip = True\n",
    "                break\n",
    "            else:\n",
    "                skip = False  \n",
    "    if not skip and step[\"type\"]==\"tool\":\n",
    "        tool_use = True\n",
    "        print(step)\n",
    "    data.append(step)\n",
    "\n",
    "if not tool_use: \n",
    "    for step in data:\n",
    "        if step[\"type\"]==\"ai\":\n",
    "            tool_use = False\n",
    "            print(step)"
   ]
  },
  {
   "cell_type": "code",
   "execution_count": 1,
   "id": "97ae7daf-4e4b-40c4-8464-a19a7727dc47",
   "metadata": {},
   "outputs": [
    {
     "name": "stdout",
     "output_type": "stream",
     "text": [
      "step: type: ai  \n",
      "data: This assistant is designed strictly for medical image processing and search. Please ask a medical-related question.  \n",
      "next_tool: no_tool  \n"
     ]
    },
    {
     "ename": "TypeError",
     "evalue": "string indices must be integers, not 'str'",
     "output_type": "error",
     "traceback": [
      "\u001b[31m---------------------------------------------------------------------------\u001b[39m",
      "\u001b[31mTypeError\u001b[39m                                 Traceback (most recent call last)",
      "\u001b[36mCell\u001b[39m\u001b[36m \u001b[39m\u001b[32mIn[1]\u001b[39m\u001b[32m, line 31\u001b[39m\n\u001b[32m     29\u001b[39m         \u001b[38;5;28;01melse\u001b[39;00m:\n\u001b[32m     30\u001b[39m             skip = \u001b[38;5;28;01mFalse\u001b[39;00m  \n\u001b[32m---> \u001b[39m\u001b[32m31\u001b[39m \u001b[38;5;28;01mif\u001b[39;00m \u001b[38;5;129;01mnot\u001b[39;00m skip \u001b[38;5;129;01mand\u001b[39;00m \u001b[43mstep\u001b[49m\u001b[43m[\u001b[49m\u001b[33;43m\"\u001b[39;49m\u001b[33;43mtype\u001b[39;49m\u001b[33;43m\"\u001b[39;49m\u001b[43m]\u001b[49m==\u001b[33m\"\u001b[39m\u001b[33mtool\u001b[39m\u001b[33m\"\u001b[39m:\n\u001b[32m     32\u001b[39m     tool_use = \u001b[38;5;28;01mTrue\u001b[39;00m\n\u001b[32m     33\u001b[39m     \u001b[38;5;28mprint\u001b[39m(\u001b[33m\"\u001b[39m\u001b[33mstep tool use:\u001b[39m\u001b[33m\"\u001b[39m,step)\n",
      "\u001b[31mTypeError\u001b[39m: string indices must be integers, not 'str'"
     ]
    }
   ],
   "source": [
    "import json\n",
    "from agent_runner import call_agent\n",
    "\n",
    "# Step 1: Define the structured input\n",
    "input_data = {\n",
    "    \"query\": \"Hi\",\n",
    "    \"image\": False,\n",
    "    \"image_path\": \"\"\n",
    "}\n",
    "# Step 2: Extract fields\n",
    "query = input_data.get(\"query\", \"\")\n",
    "image_flag = input_data.get(\"image\", False)\n",
    "image_path = input_data.get(\"image_path\", \"\")\n",
    "\n",
    "# Step 3: Format into a single string\n",
    "final_input_str = f\"Query: {query}\\nImage: {image_flag}\\nImage Path: {image_path}\"\n",
    "# Step 4: Send to agent\n",
    "data = []\n",
    "skip = False\n",
    "tool_use = False\n",
    "for step in call_agent(final_input_str):\n",
    "    print(\"step:\",step)\n",
    "    if len(data):\n",
    "        for old_step in data:\n",
    "            if step[\"type\"]==old_step[\"type\"] and step[\"data\"]==old_step[\"data\"]:\n",
    "                skip = True\n",
    "                break\n",
    "            else:\n",
    "                skip = False  \n",
    "    if not skip and step[\"type\"]==\"tool\":\n",
    "        tool_use = True\n",
    "        print(\"step tool use:\",step)\n",
    "    data.append(step)\n",
    "\n",
    "if not tool_use: \n",
    "    for step in data:\n",
    "        if step[\"type\"]==\"ai\":\n",
    "            tool_use = False\n",
    "            print(\"step ai:\",step)\n",
    "    "
   ]
  },
  {
   "cell_type": "code",
   "execution_count": 1,
   "id": "38929526-2ea9-4441-882f-28ac3ec819a3",
   "metadata": {},
   "outputs": [
    {
     "name": "stdout",
     "output_type": "stream",
     "text": [
      "📦 Stage: MedGEMMA\n",
      "{'type': 'medgemma', 'data': '1.  **Technical Assessment:**\\n    *   Image Type: PA Chest X-ray\\n    *   Positioning: Standard\\n    *   Technical Quality: Good\\n\\n2.  **Visual Findings:**\\n    *   Lungs: No obvious consolidation, nodules, or pleural effusions.\\n    *   Pleura: No visible pleural effusion or pneumothorax.\\n    *   Heart/Mediastinum: Heart size appears within normal limits. No mediastinal shift.\\n    *   Diaphragm/Bones: Diaphragms are visible. No obvious fractures or calcifications.\\n\\n3.  **Abnormalities and Interpretation:**\\n    *   No focal consolidation, nodules, or pleural effusions are identified.\\n    *   The heart size appears within normal limits.\\n    *   The mediastinum is unremarkable.\\n    *   The diaphragms are visible.\\n\\n4.  **Diagnostic Reasoning:**\\n    *   The absence of focal consolidation, nodules, or pleural effusions suggests that there are no obvious infectious or inflammatory processes affecting the lungs or pleura.\\n    *   The heart size appears within normal limits, and there is no mediastinal shift, which suggests that there is no significant cardiac enlargement or compression of the mediastinum.\\n    *   The diaphragms are visible, which confirms that they are not obscured by any pathology.\\n\\n5.  **Final Diagnosis:**\\n    *   No acute abnormalities detected.\\n\\n6.  **Confidence Level:**\\n    *   High\\n\\n7.  **Supporting Evidence:**\\n    *   The image shows no obvious signs of pneumonia, pulmonary edema, or pleural effusion.\\n    *   The heart size appears within normal limits, and there is no mediastinal shift.\\n    *   The diaphragms are visible, which confirms that they are not obscured by any pathology.\\n\\n8.  **Limitations:**\\n    *   The image may not be sensitive enough to detect subtle abnormalities.\\n    *   The image may be affected by factors such as patient positioning or technical artifacts.\\n\\n9.  **Conclusion:**\\n    *   The chest X-ray shows no acute abnormalities.\\n    *   The heart size appears within normal limits.\\n    *   The mediastinum is unremarkable.\\n    *   The diaphragms are visible.\\n    *   No focal consolidation, nodules, or pleural effusions are identified.\\n    *   The absence of focal consolidation, nodules, or pleural effusions suggests that there'}\n",
      "📦 Stage: LLM Search Phrase\n",
      "🔍 Search term: a chest xray of Normal chest x-ray\n",
      "📦 Stage: MedCLIP\n",
      "{'type': 'db_images', 'data': ['unique_subset/00028948_004.png', 'unique_subset/00006462_007.png', 'unique_subset/00011379_035.png', 'unique_subset/00000193_019.png', 'unique_subset/00028544_004.png']}\n",
      "📦 Stage: Web Search\n",
      "{'type': 'web_images', 'data': ['https://www.kenhub.com/thumbor/AkXFsw0396y894sLEMWlcDuChJA=/fit-in/800x1600/filters:watermark(/images/logo_url.png,-10,-10,0):background_color(FFFFFF):format(jpeg)/images/library/10851/eXtmE1V2XgsjZK2JolVQ5g_Border_of_left_atrium.png', 'https://prod-images-static.radiopaedia.org/images/220869/76052f7902246ff862f52f5d3cd9cd_big_gallery.jpg', 'https://www.kenhub.com/thumbor/W0l-tor7yJG9E3lKsMwqMjFAxRg=/fit-in/800x1600/filters:watermark(/images/logo_url.png,-10,-10,0):background_color(FFFFFF):format(jpeg)/images/article/normal-chest-x-ray/eIIXNhFk2r9VNLRTkmISA_Screenshot_2019-02-21_at_10.07.34.png', 'https://my.clevelandclinic.org/-/scassets/images/org/health/articles/10228-chest-x-ray', 'https://glassboxmedicine.com/wp-content/uploads/2019/02/normal_cxr-heart-dia-clav.jpg']}\n",
      "{'type': 'ai', 'data': 'All tool outputs have been streamed.'}\n"
     ]
    }
   ],
   "source": [
    "import json\n",
    "from agent_runner import call_agent\n",
    "\n",
    "for result in call_agent(\"Analyze this chest x-ray\", image=True, image_path=\"../agent/test2.png\"):\n",
    "    print(result)\n"
   ]
  },
  {
   "cell_type": "code",
   "execution_count": 1,
   "id": "f156dbd4-55f0-4c2b-869d-52d9d2cd9d14",
   "metadata": {},
   "outputs": [
    {
     "name": "stdout",
     "output_type": "stream",
     "text": [
      "📩 call_agent got: Hi can you give me pnemonia iamges False \n",
      "using agent\n",
      "{'type': 'ai', 'data': 'I will search for pneumonia-related medical reference images for you using our specialized medical image databases and web search.  \\nnext_tool: db_images'}\n",
      "{'type': 'db_images', 'data': ['unique_subset/00028948_004.png', 'unique_subset/00006462_007.png', 'unique_subset/00011379_035.png', 'unique_subset/00000193_019.png', 'unique_subset/00028544_004.png']}\n",
      "{'type': 'ai', 'data': 'I found several pneumonia-related images in our medical image database, including chest X-rays showing typical pneumonia presentations.  \\nnext_tool: web_images'}\n",
      "{'type': 'web_images', 'data': [{'image_url': 'https://www.mayoclinic.org/-/media/kcms/gbs/patient-consumer/images/2013/08/26/10/01/ds00135_im00621_pnuesmal_gif.png', 'source_url': 'https://www.mayoclinic.org/diseases-conditions/pneumonia/multimedia/chest-x-ray-showing-pneumonia/img-20005827', 'title': 'Chest X-ray showing pneumonia - Mayo Clinic'}, {'image_url': 'https://www.news-medical.net/image-handler/picture/2020/12/Capture27.jpg', 'source_url': 'https://www.news-medical.net/news/20201218/Transfer-learning-exploits-chest-Xray-to-diagnose-COVID-19-pneumonia.aspx', 'title': 'Transfer learning exploits chest-Xray to diagnose COVID-19 pneumonia'}, {'image_url': 'https://radiologyassistant.nl/img/containers/main/chest-x-ray-lung-disease/a51a0976c3619b_TAB-density-new.jpg/a4c5e3114c91597d8fd8905d673a83f7.jpg', 'source_url': 'https://radiologyassistant.nl/chest/chest-x-ray/lung-disease', 'title': 'The Radiology Assistant : Chest X-Ray - Lung disease'}, {'image_url': 'https://www.surgeryjournal.co.uk/cms/10.1016/j.mpsur.2009.08.006/asset/195dcee6-7058-4a35-927b-019bbe3e2fea/main.assets/gr1.jpg', 'source_url': 'https://www.surgeryjournal.co.uk/article/S0263-9319(09)00181-1/fulltext', 'title': 'Chest X-ray manifestations of pneumonia - Surgery - Oxford International  Edition'}, {'image_url': 'https://media.springernature.com/lw1200/springer-static/image/art%3A10.1186%2Fs12938-018-0544-y/MediaObjects/12938_2018_544_Fig1_HTML.png', 'source_url': 'https://biomedical-engineering-online.biomedcentral.com/articles/10.1186/s12938-018-0544-y', 'title': 'Computer-aided detection in chest radiography based on artificial  intelligence: a survey | BioMedical Engineering OnLine | Full Text'}]}\n",
      "{'type': 'ai', 'data': 'I have also found pneumonia chest X-ray images on the web from reputable medical sources like Mayo Clinic and Radiology Assistant to help with your request.  \\nnext_tool: no_tool'}\n"
     ]
    }
   ],
   "source": [
    "import json\n",
    "from agent_runner import call_agent\n",
    "\n",
    "data = []\n",
    "for result in call_agent(\"Hi can you give me pnemonia iamges\", image=False, image_path=\"\"):\n",
    "    data.append(result)\n",
    "    print(result)\n"
   ]
  },
  {
   "cell_type": "code",
   "execution_count": null,
   "id": "33c8bb6a-afc2-4a53-9ade-cff3eca8ece6",
   "metadata": {},
   "outputs": [],
   "source": []
  }
 ],
 "metadata": {
  "kernelspec": {
   "display_name": "Python 3 (ipykernel)",
   "language": "python",
   "name": "python3"
  },
  "language_info": {
   "codemirror_mode": {
    "name": "ipython",
    "version": 3
   },
   "file_extension": ".py",
   "mimetype": "text/x-python",
   "name": "python",
   "nbconvert_exporter": "python",
   "pygments_lexer": "ipython3",
   "version": "3.12.3"
  }
 },
 "nbformat": 4,
 "nbformat_minor": 5
}
